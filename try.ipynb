{
 "cells": [
  {
   "cell_type": "code",
   "execution_count": 70,
   "metadata": {},
   "outputs": [],
   "source": [
    "import torchaudio\n",
    "import torch\n",
    "import torch.nn as nn\n",
    "from util.patch_embed import PatchEmbed_org\n",
    "from model import Block"
   ]
  },
  {
   "cell_type": "code",
   "execution_count": 71,
   "metadata": {},
   "outputs": [],
   "source": [
    "a = torch.randn(2, 10*16000)"
   ]
  },
  {
   "cell_type": "code",
   "execution_count": 72,
   "metadata": {},
   "outputs": [
    {
     "name": "stderr",
     "output_type": "stream",
     "text": [
      "/home/apoman123/miniconda3/envs/audiomae/lib/python3.8/site-packages/torchaudio/functional/functional.py:584: UserWarning: At least one mel filterbank has all zero values. The value for `n_mels` (128) may be set too high. Or, the value for `n_freqs` (201) may be set too low.\n",
      "  warnings.warn(\n"
     ]
    }
   ],
   "source": [
    "sample_rate = 16000\n",
    "win_length = int(sample_rate * 0.025)  # 25ms\n",
    "hop_length = int(sample_rate * 0.01)  # 10ms\n",
    "transform = torchaudio.transforms.MelSpectrogram(\n",
    "    sample_rate=sample_rate,\n",
    "    win_length=win_length,\n",
    "    hop_length=hop_length,\n",
    "    n_fft=win_length,\n",
    "    n_mels=128,  # 你可以根据需要调整mel频带的数量\n",
    "    window_fn=torch.hamming_window\n",
    ")"
   ]
  },
  {
   "cell_type": "code",
   "execution_count": 73,
   "metadata": {},
   "outputs": [],
   "source": [
    "b = transform(a).unsqueeze(1)"
   ]
  },
  {
   "cell_type": "code",
   "execution_count": 74,
   "metadata": {},
   "outputs": [
    {
     "data": {
      "text/plain": [
       "torch.Size([2, 1, 128, 1001])"
      ]
     },
     "execution_count": 74,
     "metadata": {},
     "output_type": "execute_result"
    }
   ],
   "source": [
    "b.shape"
   ]
  },
  {
   "cell_type": "code",
   "execution_count": 75,
   "metadata": {},
   "outputs": [],
   "source": [
    "patch_to_emb = PatchEmbed_org(224, 16, 1, 768)\n",
    "num_patches = (b.shape[2] // 16) * (b.shape[3] // 16)\n",
    "pos_embed = nn.Parameter(torch.zeros(1, num_patches + 1, 768), requires_grad=False) "
   ]
  },
  {
   "cell_type": "code",
   "execution_count": 76,
   "metadata": {},
   "outputs": [],
   "source": [
    "embs = patch_to_emb(b)\n",
    "input_tokens = embs + pos_embed[:, 1:, :]\n",
    "cls_token = nn.Parameter(torch.zeros(1, 1, 768)) + pos_embed[:, 1:, :]"
   ]
  },
  {
   "cell_type": "code",
   "execution_count": 77,
   "metadata": {},
   "outputs": [],
   "source": [
    "cls_tokens = cls_token.expand(input_tokens.shape[0], -1, -1)\n",
    "x = torch.cat((cls_tokens, input_tokens), dim=1)"
   ]
  },
  {
   "cell_type": "code",
   "execution_count": 78,
   "metadata": {},
   "outputs": [],
   "source": [
    "blk = Block(768, 16, 4, qkv_bias=True, norm_layer=nn.LayerNorm)"
   ]
  },
  {
   "cell_type": "code",
   "execution_count": 79,
   "metadata": {},
   "outputs": [],
   "source": [
    "encoder_result = blk(x)"
   ]
  },
  {
   "cell_type": "code",
   "execution_count": 80,
   "metadata": {},
   "outputs": [
    {
     "data": {
      "text/plain": [
       "torch.Size([2, 496, 768])"
      ]
     },
     "execution_count": 80,
     "metadata": {},
     "output_type": "execute_result"
    }
   ],
   "source": [
    "embs.shape"
   ]
  },
  {
   "cell_type": "code",
   "execution_count": 81,
   "metadata": {},
   "outputs": [],
   "source": [
    "dummy = torch.rand(2, 5, 5)\n",
    "noise = torch.rand(2, 5)\n",
    "ids_shuffle = torch.argsort(noise, dim=1)\n",
    "ids_restore = torch.argsort(ids_shuffle, dim=1)"
   ]
  },
  {
   "cell_type": "code",
   "execution_count": 82,
   "metadata": {},
   "outputs": [
    {
     "name": "stdout",
     "output_type": "stream",
     "text": [
      "tensor([[[0.6453, 0.2386, 0.8257, 0.8505, 0.9747],\n",
      "         [0.7550, 0.5414, 0.8062, 0.6918, 0.1312],\n",
      "         [0.2928, 0.6910, 0.6827, 0.0190, 0.1402],\n",
      "         [0.9646, 0.6618, 0.2535, 0.8901, 0.2351],\n",
      "         [0.4347, 0.5404, 0.2957, 0.0304, 0.1935]],\n",
      "\n",
      "        [[0.2689, 0.9827, 0.1391, 0.4593, 0.3023],\n",
      "         [0.7796, 0.2057, 0.9030, 0.1741, 0.9467],\n",
      "         [0.2775, 0.2084, 0.3652, 0.3638, 0.2278],\n",
      "         [0.9628, 0.5409, 0.2111, 0.7085, 0.8050],\n",
      "         [0.1502, 0.5530, 0.7047, 0.4451, 0.9808]]])\n",
      "tensor([[0.3775, 0.7035, 0.9517, 0.9874, 0.3406],\n",
      "        [0.0523, 0.8955, 0.2882, 0.0307, 0.3046]])\n",
      "tensor([[4, 0, 1, 2, 3],\n",
      "        [3, 0, 2, 4, 1]])\n",
      "tensor([[1, 2, 3, 4, 0],\n",
      "        [1, 4, 2, 0, 3]])\n"
     ]
    }
   ],
   "source": [
    "print(dummy)\n",
    "print(noise)\n",
    "print(ids_shuffle)\n",
    "print(ids_restore)"
   ]
  },
  {
   "cell_type": "code",
   "execution_count": 83,
   "metadata": {},
   "outputs": [],
   "source": [
    "ids_keep = ids_shuffle[:, :2]\n",
    "dummy_masked = torch.gather(dummy, dim=1, index=ids_keep.unsqueeze(-1).repeat(1, 1, 5))"
   ]
  },
  {
   "cell_type": "code",
   "execution_count": 84,
   "metadata": {},
   "outputs": [
    {
     "data": {
      "text/plain": [
       "tensor([[[4, 4, 4, 4, 4],\n",
       "         [0, 0, 0, 0, 0]],\n",
       "\n",
       "        [[3, 3, 3, 3, 3],\n",
       "         [0, 0, 0, 0, 0]]])"
      ]
     },
     "execution_count": 84,
     "metadata": {},
     "output_type": "execute_result"
    }
   ],
   "source": [
    "ids_keep.unsqueeze(-1).repeat(1, 1, 5)"
   ]
  },
  {
   "cell_type": "code",
   "execution_count": 85,
   "metadata": {},
   "outputs": [
    {
     "data": {
      "text/plain": [
       "tensor([[[0.4347, 0.5404, 0.2957, 0.0304, 0.1935],\n",
       "         [0.6453, 0.2386, 0.8257, 0.8505, 0.9747]],\n",
       "\n",
       "        [[0.9628, 0.5409, 0.2111, 0.7085, 0.8050],\n",
       "         [0.2689, 0.9827, 0.1391, 0.4593, 0.3023]]])"
      ]
     },
     "execution_count": 85,
     "metadata": {},
     "output_type": "execute_result"
    }
   ],
   "source": [
    "dummy_masked"
   ]
  },
  {
   "cell_type": "code",
   "execution_count": null,
   "metadata": {},
   "outputs": [],
   "source": [
    "# generate the binary mask: 0 is keep, 1 is remove\n",
    "mask = torch.ones([2, 5], device=dummy.device)\n",
    "mask[:, :2] = 0\n",
    "# unshuffle to get the binary mask\n",
    "mask = torch.gather(mask, dim=1, index=ids_restore)"
   ]
  },
  {
   "cell_type": "code",
   "execution_count": 122,
   "metadata": {},
   "outputs": [
    {
     "data": {
      "text/plain": [
       "tensor([[0., 0., 1., 1., 1.],\n",
       "        [0., 1., 1., 1., 0.]])"
      ]
     },
     "execution_count": 122,
     "metadata": {},
     "output_type": "execute_result"
    }
   ],
   "source": [
    "mask"
   ]
  },
  {
   "cell_type": "code",
   "execution_count": 94,
   "metadata": {},
   "outputs": [],
   "source": [
    "decoder_embed = nn.Linear(5, 5, bias=True)\n",
    "embs = decoder_embed(dummy_masked)"
   ]
  },
  {
   "cell_type": "code",
   "execution_count": 110,
   "metadata": {},
   "outputs": [],
   "source": [
    "mask_token = nn.Parameter(torch.zeros(1, 1, 5))\n",
    "mask_tokens = mask_token.repeat(embs.shape[0], ids_restore.shape[1] + 1 - embs.shape[1], 1)"
   ]
  },
  {
   "cell_type": "code",
   "execution_count": 111,
   "metadata": {},
   "outputs": [
    {
     "name": "stdout",
     "output_type": "stream",
     "text": [
      "torch.Size([2, 2, 5])\n",
      "torch.Size([2, 5])\n"
     ]
    }
   ],
   "source": [
    "print(embs.shape)\n",
    "print(ids_restore.shape)"
   ]
  },
  {
   "cell_type": "code",
   "execution_count": 113,
   "metadata": {},
   "outputs": [
    {
     "data": {
      "text/plain": [
       "torch.Size([2, 4, 5])"
      ]
     },
     "execution_count": 113,
     "metadata": {},
     "output_type": "execute_result"
    }
   ],
   "source": [
    "mask_tokens.shape"
   ]
  },
  {
   "cell_type": "code",
   "execution_count": 117,
   "metadata": {},
   "outputs": [],
   "source": [
    "x1 = torch.cat([embs[:, :, :], mask_tokens], dim=1)"
   ]
  },
  {
   "cell_type": "code",
   "execution_count": 118,
   "metadata": {},
   "outputs": [
    {
     "name": "stdout",
     "output_type": "stream",
     "text": [
      "tensor([[[ 0.1799, -0.6239,  0.4720,  0.2164, -0.1589],\n",
      "         [ 0.4824, -0.5183,  0.6333,  0.7364, -0.3762]],\n",
      "\n",
      "        [[ 0.3029, -0.6917,  0.4276,  0.4443, -0.3834],\n",
      "         [ 0.1936, -0.5829,  0.2732,  0.2881, -0.2181]]],\n",
      "       grad_fn=<ViewBackward0>)\n",
      "tensor([[[ 0.1799, -0.6239,  0.4720,  0.2164, -0.1589],\n",
      "         [ 0.4824, -0.5183,  0.6333,  0.7364, -0.3762],\n",
      "         [ 0.0000,  0.0000,  0.0000,  0.0000,  0.0000],\n",
      "         [ 0.0000,  0.0000,  0.0000,  0.0000,  0.0000],\n",
      "         [ 0.0000,  0.0000,  0.0000,  0.0000,  0.0000],\n",
      "         [ 0.0000,  0.0000,  0.0000,  0.0000,  0.0000]],\n",
      "\n",
      "        [[ 0.3029, -0.6917,  0.4276,  0.4443, -0.3834],\n",
      "         [ 0.1936, -0.5829,  0.2732,  0.2881, -0.2181],\n",
      "         [ 0.0000,  0.0000,  0.0000,  0.0000,  0.0000],\n",
      "         [ 0.0000,  0.0000,  0.0000,  0.0000,  0.0000],\n",
      "         [ 0.0000,  0.0000,  0.0000,  0.0000,  0.0000],\n",
      "         [ 0.0000,  0.0000,  0.0000,  0.0000,  0.0000]]],\n",
      "       grad_fn=<CatBackward0>)\n"
     ]
    }
   ],
   "source": [
    "print(embs)\n",
    "print(x1)"
   ]
  },
  {
   "cell_type": "code",
   "execution_count": 119,
   "metadata": {},
   "outputs": [],
   "source": [
    "x2 = torch.gather(x1, dim=1, index=ids_restore.unsqueeze(-1).repeat(1, 1, x.shape[2]))"
   ]
  },
  {
   "cell_type": "code",
   "execution_count": 120,
   "metadata": {},
   "outputs": [
    {
     "data": {
      "text/plain": [
       "tensor([[[ 0.4824, -0.5183,  0.6333,  0.7364, -0.3762],\n",
       "         [ 0.0000,  0.0000,  0.0000,  0.0000,  0.0000],\n",
       "         [ 0.0000,  0.0000,  0.0000,  0.0000,  0.0000],\n",
       "         [ 0.0000,  0.0000,  0.0000,  0.0000,  0.0000],\n",
       "         [ 0.1799, -0.6239,  0.4720,  0.2164, -0.1589]],\n",
       "\n",
       "        [[ 0.1936, -0.5829,  0.2732,  0.2881, -0.2181],\n",
       "         [ 0.0000,  0.0000,  0.0000,  0.0000,  0.0000],\n",
       "         [ 0.0000,  0.0000,  0.0000,  0.0000,  0.0000],\n",
       "         [ 0.3029, -0.6917,  0.4276,  0.4443, -0.3834],\n",
       "         [ 0.0000,  0.0000,  0.0000,  0.0000,  0.0000]]],\n",
       "       grad_fn=<GatherBackward0>)"
      ]
     },
     "execution_count": 120,
     "metadata": {},
     "output_type": "execute_result"
    }
   ],
   "source": [
    "x2"
   ]
  },
  {
   "cell_type": "code",
   "execution_count": 1,
   "metadata": {},
   "outputs": [
    {
     "ename": "NameError",
     "evalue": "name 'ids_restore' is not defined",
     "output_type": "error",
     "traceback": [
      "\u001b[0;31m---------------------------------------------------------------------------\u001b[0m",
      "\u001b[0;31mNameError\u001b[0m                                 Traceback (most recent call last)",
      "\u001b[0;32m/tmp/ipykernel_1913463/213949641.py\u001b[0m in \u001b[0;36m<module>\u001b[0;34m\u001b[0m\n\u001b[0;32m----> 1\u001b[0;31m \u001b[0mids_restore\u001b[0m\u001b[0;34m\u001b[0m\u001b[0;34m\u001b[0m\u001b[0m\n\u001b[0m",
      "\u001b[0;31mNameError\u001b[0m: name 'ids_restore' is not defined"
     ]
    }
   ],
   "source": [
    "ids_restore"
   ]
  }
 ],
 "metadata": {
  "kernelspec": {
   "display_name": "audiomae",
   "language": "python",
   "name": "python3"
  },
  "language_info": {
   "codemirror_mode": {
    "name": "ipython",
    "version": 3
   },
   "file_extension": ".py",
   "mimetype": "text/x-python",
   "name": "python",
   "nbconvert_exporter": "python",
   "pygments_lexer": "ipython3",
   "version": "3.8.12"
  }
 },
 "nbformat": 4,
 "nbformat_minor": 2
}
